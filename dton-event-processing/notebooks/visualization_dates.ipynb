{
 "cells": [
  {
   "cell_type": "code",
   "execution_count": 1,
   "id": "human-conjunction",
   "metadata": {},
   "outputs": [
    {
     "name": "stdout",
     "output_type": "stream",
     "text": [
      "C:\\Users\\user\\Documents\\dton-wildfires-cleaner\n"
     ]
    }
   ],
   "source": [
    "cd .."
   ]
  },
  {
   "cell_type": "code",
   "execution_count": 2,
   "id": "cooked-third",
   "metadata": {},
   "outputs": [],
   "source": [
    "import os\n",
    "\n",
    "from sentinelhub import SHConfig, DataCollection, BBox, CRS\n",
    "from sentinelhub.time_utils import iso_to_datetime\n",
    "import matplotlib.pyplot as plt\n",
    "\n",
    "from processing.date_utils import get_visualization_dates\n",
    "from processing.evalscripts import cloud_mask"
   ]
  },
  {
   "cell_type": "code",
   "execution_count": 3,
   "id": "prompt-australian",
   "metadata": {},
   "outputs": [],
   "source": [
    "CLIENT_ID = os.environ['CLIENT_ID']\n",
    "CLIENT_SECRET = os.environ['CLIENT_SECRET']\n",
    "INSTANCE_ID = os.environ['INSTANCE_ID']"
   ]
  },
  {
   "cell_type": "code",
   "execution_count": 4,
   "id": "negative-broadcasting",
   "metadata": {},
   "outputs": [],
   "source": [
    "config = SHConfig()\n",
    "config.sh_client_id = CLIENT_ID\n",
    "config.sh_client_secret = CLIENT_SECRET\n",
    "config.instance_id = INSTANCE_ID"
   ]
  },
  {
   "cell_type": "code",
   "execution_count": 5,
   "id": "overall-shirt",
   "metadata": {},
   "outputs": [],
   "source": [
    "bbox =  BBox((153.0079394411468, -25.12443961167254, 153.11725920035838, -25.27724579749874), crs=CRS.WGS84)\n",
    "exact_date = iso_to_datetime('2020-11-22')\n",
    "data_collection = DataCollection.SENTINEL2_L1C\n",
    "timerange_after = 30 # How many days after the event to search for a visualization date\n",
    "timerange_before = 50 # How many days before the event to search for a visualization date\n",
    "cloud_coverage_evalscript = cloud_mask\n",
    "resolution = \"20m\"\n",
    "layer = \"TRUE-COLOR\"\n",
    "MIN_COVERAGE = 0.7\n",
    "MAX_CLOUD_COVERAGE_SEARCH = 0.5\n",
    "MAX_CLOUD_COVERAGE_VISUALIZATION = 0.4"
   ]
  },
  {
   "cell_type": "code",
   "execution_count": 6,
   "id": "opposed-setting",
   "metadata": {},
   "outputs": [
    {
     "data": {
      "text/plain": [
       "('2020-11-15', '2020-11-30')"
      ]
     },
     "execution_count": 6,
     "metadata": {},
     "output_type": "execute_result"
    }
   ],
   "source": [
    "get_visualization_dates(bbox, exact_date, data_collection, timerange_before, timerange_after,\\\n",
    "MAX_CLOUD_COVERAGE_SEARCH, cloud_coverage_evalscript, layer,resolution,MAX_CLOUD_COVERAGE_VISUALIZATION, MIN_COVERAGE, config)"
   ]
  }
 ],
 "metadata": {
  "kernelspec": {
   "display_name": "Python 3",
   "language": "python",
   "name": "python3"
  },
  "language_info": {
   "codemirror_mode": {
    "name": "ipython",
    "version": 3
   },
   "file_extension": ".py",
   "mimetype": "text/x-python",
   "name": "python",
   "nbconvert_exporter": "python",
   "pygments_lexer": "ipython3",
   "version": "3.8.0"
  }
 },
 "nbformat": 4,
 "nbformat_minor": 5
}
