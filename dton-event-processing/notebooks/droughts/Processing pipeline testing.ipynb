{
 "cells": [
  {
   "cell_type": "code",
   "execution_count": 1,
   "id": "provincial-occasion",
   "metadata": {},
   "outputs": [
    {
     "name": "stdout",
     "output_type": "stream",
     "text": [
      "C:\\Users\\user\\Documents\\dton-wildfires-cleaner\n"
     ]
    }
   ],
   "source": [
    "cd ../.."
   ]
  },
  {
   "cell_type": "code",
   "execution_count": 2,
   "id": "optical-theta",
   "metadata": {},
   "outputs": [],
   "source": [
    "from pprint import pprint\n",
    "\n",
    "from sentinelhub import SHConfig\n",
    "\n",
    "from droughts_processing import process_drought_event\n",
    "from settings import droughts_settings, visualization_settings_droughts\n",
    "from queries import droughts_query\n",
    "\n",
    "from utils import get_env_var\n",
    "from event_registry_utils import EventRegistry"
   ]
  },
  {
   "cell_type": "code",
   "execution_count": 3,
   "id": "apparent-unemployment",
   "metadata": {},
   "outputs": [],
   "source": [
    "INSTANCE_ID_DROUGHTS = get_env_var(\"INSTANCE_ID_DROUGHTS\")\n",
    "EVENT_REGISTRY_API_KEY = get_env_var(\"EVENT_REGISTRY_API_KEY\")\n",
    "CLIENT_ID = get_env_var(\"CLIENT_ID\")\n",
    "CLIENT_SECRET = get_env_var(\"CLIENT_SECRET\")\n",
    "\n",
    "config = SHConfig()\n",
    "config.sh_client_id = CLIENT_ID\n",
    "config.sh_client_secret = CLIENT_SECRET\n",
    "config.instance_id = INSTANCE_ID_DROUGHTS"
   ]
  },
  {
   "cell_type": "code",
   "execution_count": 4,
   "id": "approved-milwaukee",
   "metadata": {},
   "outputs": [],
   "source": [
    "event_registry = EventRegistry(EVENT_REGISTRY_API_KEY, use_cache=True)\n",
    "\n",
    "event_id = \"eng-6642116\"\n",
    "\n",
    "event = event_registry.get_event(event_id)"
   ]
  },
  {
   "cell_type": "code",
   "execution_count": 5,
   "id": "hungarian-aerospace",
   "metadata": {
    "scrolled": false
   },
   "outputs": [
    {
     "name": "stdout",
     "output_type": "stream",
     "text": [
      "Fetching FIS data ...\n"
     ]
    },
    {
     "ename": "IndexError",
     "evalue": "list index out of range",
     "output_type": "error",
     "traceback": [
      "\u001b[1;31m---------------------------------------------------------------------------\u001b[0m",
      "\u001b[1;31mIndexError\u001b[0m                                Traceback (most recent call last)",
      "\u001b[1;32m<ipython-input-5-fd1cbbab3e6c>\u001b[0m in \u001b[0;36m<module>\u001b[1;34m\u001b[0m\n\u001b[1;32m----> 1\u001b[1;33m \u001b[0mlat\u001b[0m\u001b[1;33m,\u001b[0m \u001b[0mlng\u001b[0m\u001b[1;33m,\u001b[0m \u001b[0mzoom\u001b[0m\u001b[1;33m,\u001b[0m \u001b[0mdate\u001b[0m\u001b[1;33m,\u001b[0m \u001b[0mvisualization_dates\u001b[0m \u001b[1;33m=\u001b[0m \u001b[0mprocess_drought_event\u001b[0m\u001b[1;33m(\u001b[0m\u001b[0mevent\u001b[0m\u001b[1;33m,\u001b[0m \u001b[0mdroughts_settings\u001b[0m\u001b[1;33m,\u001b[0m \u001b[0mvisualization_settings_droughts\u001b[0m\u001b[1;33m,\u001b[0m \u001b[0mconfig\u001b[0m\u001b[1;33m,\u001b[0m \u001b[0mverbose\u001b[0m\u001b[1;33m=\u001b[0m\u001b[1;32mTrue\u001b[0m\u001b[1;33m)\u001b[0m\u001b[1;33m\u001b[0m\u001b[1;33m\u001b[0m\u001b[0m\n\u001b[0m",
      "\u001b[1;32m~\\Documents\\dton-wildfires-cleaner\\droughts_processing.py\u001b[0m in \u001b[0;36mprocess_drought_event\u001b[1;34m(event, settings, visualization_settings, config, verbose)\u001b[0m\n\u001b[0;32m     67\u001b[0m     \u001b[0mfis_data\u001b[0m \u001b[1;33m=\u001b[0m \u001b[0mfis_request\u001b[0m\u001b[1;33m.\u001b[0m\u001b[0mget_data\u001b[0m\u001b[1;33m(\u001b[0m\u001b[1;33m)\u001b[0m\u001b[1;33m\u001b[0m\u001b[1;33m\u001b[0m\u001b[0m\n\u001b[0;32m     68\u001b[0m \u001b[1;33m\u001b[0m\u001b[0m\n\u001b[1;32m---> 69\u001b[1;33m     best_before_drought_date, best_drought_date = get_best_fis_dates(\n\u001b[0m\u001b[0;32m     70\u001b[0m         \u001b[0mevent_date\u001b[0m\u001b[1;33m,\u001b[0m \u001b[0mfis_data\u001b[0m\u001b[1;33m,\u001b[0m \u001b[0mn_year_segments\u001b[0m\u001b[1;33m,\u001b[0m \u001b[0mwidth\u001b[0m \u001b[1;33m*\u001b[0m \u001b[0mheight\u001b[0m\u001b[1;33m,\u001b[0m \u001b[0mMAX_EVENT_OFFSET\u001b[0m\u001b[1;33m\u001b[0m\u001b[1;33m\u001b[0m\u001b[0m\n\u001b[0;32m     71\u001b[0m     )\n",
      "\u001b[1;32m~\\Documents\\dton-wildfires-cleaner\\processing\\fis_utils.py\u001b[0m in \u001b[0;36mget_best_fis_dates\u001b[1;34m(date, fis_data, n_year_segments, n_pixels, max_offset)\u001b[0m\n\u001b[0;32m    142\u001b[0m     \u001b[0msegment_deviations\u001b[0m \u001b[1;33m=\u001b[0m \u001b[0mget_segment_deviations_from_mean\u001b[0m\u001b[1;33m(\u001b[0m\u001b[0msegments\u001b[0m\u001b[1;33m,\u001b[0m \u001b[0msegment_averages\u001b[0m\u001b[1;33m,\u001b[0m \u001b[0mn_year_segments\u001b[0m\u001b[1;33m)\u001b[0m\u001b[1;33m\u001b[0m\u001b[1;33m\u001b[0m\u001b[0m\n\u001b[0;32m    143\u001b[0m     \u001b[0mstart_segment\u001b[0m \u001b[1;33m=\u001b[0m \u001b[0mdate_to_segment\u001b[0m\u001b[1;33m(\u001b[0m\u001b[0mdate\u001b[0m\u001b[1;33m,\u001b[0m \u001b[0mdates\u001b[0m\u001b[1;33m[\u001b[0m\u001b[1;36m0\u001b[0m\u001b[1;33m]\u001b[0m\u001b[1;33m,\u001b[0m \u001b[0mtimerange_length\u001b[0m\u001b[1;33m)\u001b[0m\u001b[1;33m\u001b[0m\u001b[1;33m\u001b[0m\u001b[0m\n\u001b[1;32m--> 144\u001b[1;33m     recent_below_average_segments = get_recent_below_average_segments(\n\u001b[0m\u001b[0;32m    145\u001b[0m         \u001b[0mstart_segment\u001b[0m\u001b[1;33m,\u001b[0m \u001b[0msegment_deviations\u001b[0m\u001b[1;33m,\u001b[0m \u001b[0mmax_offset\u001b[0m\u001b[1;33m=\u001b[0m\u001b[0mmax_offset\u001b[0m\u001b[1;33m,\u001b[0m \u001b[0mmax_n_segments\u001b[0m\u001b[1;33m=\u001b[0m\u001b[1;36m1\u001b[0m\u001b[1;33m\u001b[0m\u001b[1;33m\u001b[0m\u001b[0m\n\u001b[0;32m    146\u001b[0m     )\n",
      "\u001b[1;32m~\\Documents\\dton-wildfires-cleaner\\processing\\fis_utils.py\u001b[0m in \u001b[0;36mget_recent_below_average_segments\u001b[1;34m(start_segment, diffs, max_offset, max_n_segments)\u001b[0m\n\u001b[0;32m     51\u001b[0m     \u001b[0moffset\u001b[0m \u001b[1;33m=\u001b[0m \u001b[1;36m0\u001b[0m\u001b[1;33m\u001b[0m\u001b[1;33m\u001b[0m\u001b[0m\n\u001b[0;32m     52\u001b[0m     \u001b[1;32mfor\u001b[0m \u001b[0mi\u001b[0m \u001b[1;32min\u001b[0m \u001b[0mrange\u001b[0m\u001b[1;33m(\u001b[0m\u001b[0mstart_segment\u001b[0m\u001b[1;33m,\u001b[0m \u001b[1;36m0\u001b[0m\u001b[1;33m,\u001b[0m \u001b[1;33m-\u001b[0m\u001b[1;36m1\u001b[0m\u001b[1;33m)\u001b[0m\u001b[1;33m:\u001b[0m\u001b[1;33m\u001b[0m\u001b[1;33m\u001b[0m\u001b[0m\n\u001b[1;32m---> 53\u001b[1;33m         \u001b[1;32mif\u001b[0m \u001b[0mdiffs\u001b[0m\u001b[1;33m[\u001b[0m\u001b[0mi\u001b[0m\u001b[1;33m]\u001b[0m \u001b[1;33m<\u001b[0m \u001b[1;36m0\u001b[0m \u001b[1;32mand\u001b[0m \u001b[0mlen\u001b[0m\u001b[1;33m(\u001b[0m\u001b[0mbelow_average_period\u001b[0m\u001b[1;33m)\u001b[0m \u001b[1;33m<\u001b[0m \u001b[0mmax_n_segments\u001b[0m\u001b[1;33m:\u001b[0m\u001b[1;33m\u001b[0m\u001b[1;33m\u001b[0m\u001b[0m\n\u001b[0m\u001b[0;32m     54\u001b[0m             \u001b[0mbelow_average_period\u001b[0m\u001b[1;33m.\u001b[0m\u001b[0mappend\u001b[0m\u001b[1;33m(\u001b[0m\u001b[0mi\u001b[0m\u001b[1;33m)\u001b[0m\u001b[1;33m\u001b[0m\u001b[1;33m\u001b[0m\u001b[0m\n\u001b[0;32m     55\u001b[0m         \u001b[1;32melif\u001b[0m \u001b[0moffset\u001b[0m \u001b[1;33m<\u001b[0m \u001b[0mmax_offset\u001b[0m\u001b[1;33m:\u001b[0m\u001b[1;33m\u001b[0m\u001b[1;33m\u001b[0m\u001b[0m\n",
      "\u001b[1;31mIndexError\u001b[0m: list index out of range"
     ]
    }
   ],
   "source": [
    "lat, lng, zoom, date, visualization_dates = process_drought_event(event, droughts_settings, visualization_settings_droughts, config, verbose=True)"
   ]
  },
  {
   "cell_type": "code",
   "execution_count": null,
   "id": "bottom-evans",
   "metadata": {},
   "outputs": [],
   "source": [
    "print(lat, lng, zoom)\n",
    "pprint(visualization_dates)"
   ]
  }
 ],
 "metadata": {
  "kernelspec": {
   "display_name": "Python 3",
   "language": "python",
   "name": "python3"
  },
  "language_info": {
   "codemirror_mode": {
    "name": "ipython",
    "version": 3
   },
   "file_extension": ".py",
   "mimetype": "text/x-python",
   "name": "python",
   "nbconvert_exporter": "python",
   "pygments_lexer": "ipython3",
   "version": "3.8.0"
  }
 },
 "nbformat": 4,
 "nbformat_minor": 5
}
