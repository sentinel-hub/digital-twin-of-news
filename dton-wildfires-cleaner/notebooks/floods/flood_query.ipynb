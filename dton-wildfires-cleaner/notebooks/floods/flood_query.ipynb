{
 "cells": [
  {
   "cell_type": "code",
   "execution_count": 1,
   "id": "foster-stewart",
   "metadata": {},
   "outputs": [
    {
     "name": "stdout",
     "output_type": "stream",
     "text": [
      "C:\\Users\\dthiex\\Documents\\Fork\\dton-wildfires-cleaner\\notebooks\n"
     ]
    }
   ],
   "source": [
    "cd .."
   ]
  },
  {
   "cell_type": "code",
   "execution_count": 2,
   "id": "written-reform",
   "metadata": {},
   "outputs": [
    {
     "name": "stdout",
     "output_type": "stream",
     "text": [
      "C:\\Users\\dthiex\\Documents\\Fork\\dton-wildfires-cleaner\n"
     ]
    }
   ],
   "source": [
    "cd .."
   ]
  },
  {
   "cell_type": "code",
   "execution_count": 3,
   "id": "marine-pharmacy",
   "metadata": {},
   "outputs": [],
   "source": [
    "from utils import get_env_var\n",
    "from event_registry_utils import EventRegistry"
   ]
  },
  {
   "cell_type": "code",
   "execution_count": 4,
   "id": "unavailable-mount",
   "metadata": {},
   "outputs": [],
   "source": [
    "EVENT_REGISTRY_API_KEY = get_env_var(\"EVENT_REGISTRY_API_KEY\")"
   ]
  },
  {
   "cell_type": "code",
   "execution_count": 5,
   "id": "persistent-classic",
   "metadata": {},
   "outputs": [],
   "source": [
    "event_registry = EventRegistry(EVENT_REGISTRY_API_KEY)"
   ]
  },
  {
   "cell_type": "code",
   "execution_count": 6,
   "id": "elect-stranger",
   "metadata": {},
   "outputs": [],
   "source": [
    "date_start = \"2020-10-01\"\n",
    "date_end = \"2020-12-31\""
   ]
  },
  {
   "cell_type": "code",
   "execution_count": 7,
   "id": "multiple-pierre",
   "metadata": {},
   "outputs": [],
   "source": [
    "def print_titles(events):\n",
    "    for event in events:\n",
    "        print(event['id'] + \":\",event['title'])"
   ]
  },
  {
   "cell_type": "code",
   "execution_count": 9,
   "id": "martial-cologne",
   "metadata": {},
   "outputs": [],
   "source": [
    "query1 = {\n",
    "    \"$query\": {\n",
    "        \"$and\": [\n",
    "            {\n",
    "                \"$and\": [\n",
    "                    {\n",
    "                        \"conceptUri\": \"http://en.wikipedia.org/wiki/Flood\"\n",
    "                    },\n",
    "                    {\n",
    "                        \"conceptUri\": \"http://en.wikipedia.org/wiki/Flash_flood\"\n",
    "                    },\n",
    "                    {\n",
    "                        \"categoryUri\": \"dmoz/Science/Earth_Sciences/Natural_Disasters_and_Hazards\"\n",
    "                    },\n",
    "                    {\n",
    "                        \"categoryUri\": \"dmoz/Society/Philanthropy/Disaster_Relief_and_Recovery\"\n",
    "                    }\n",
    "                ]\n",
    "            },\n",
    "            {\n",
    "                \"dateStart\": date_start,\n",
    "                \"dateEnd\": date_end,\n",
    "            },\n",
    "            {\n",
    "                \"lang\": \"eng\"\n",
    "            }\n",
    "        ], \n",
    "    }\n",
    "}"
   ]
  },
  {
   "cell_type": "code",
   "execution_count": 10,
   "id": "fantastic-tutorial",
   "metadata": {},
   "outputs": [
    {
     "name": "stdout",
     "output_type": "stream",
     "text": [
      "eng-6407288: 'Super storm' Cyclone Yasa hits Fiji, Government declares state of disaster\n",
      "eng-6358658: Cyclone Burevi slams into eastern Sri Lanka\n",
      "eng-6357444: Floods kill 5 in central, central highlands Vietnam\n",
      "eng-6325540: Weathering storms together\n",
      "eng-6304456: Philippines Typhoon Vamco leaves 53 dead\n",
      "eng-6294917: Typhoon Vamco hammers main Philippine island of Luzon, paralyses\n",
      "eng-6299327: 'Flood repair work hit due to delay in getting central funds' | Guwahati News - Times of India\n",
      "eng-6258949: Philippines orders evacuations as world's strongest storm of 2020 approaches\n",
      "eng-6249987: The European Union provides €1.3 million to assist floods victims in Vietnam \n",
      "eng-6248328: Emergency seeds set for farmers in flood zones\n",
      "eng-6236976: Vietnam's economy to grow by 3% in 2020; storm situation worsens\n",
      "eng-6231366: Bad weather forces CM Yediyurappa to cut short aerial survey of flood-hit Karnataka\n",
      "eng-6223133: Hyderabad floods: Tamil Nadu contributes Rs 10 cr as a token of support to Telangana\n",
      "eng-6225032: Roundup: China provides relief aid to flood-stricken victims in Cambodia\n",
      "eng-6222538: Vietnam floods and landslides displace 90,000 people as new cyclone nears\n",
      "eng-6225040: Telangana rains: Death toll goes up to 70, government on alert with fresh spell forecast\n",
      "eng-6220936: Tablighi Jamaat members become flood warriors in Hyderabad\n",
      "eng-6220337: Heavy Overnight Rain In Hyderabad Days After Deadly Downpour\n",
      "eng-6214799: Flood situation remains grim in North Karnataka, over 35,000 people evacuated\n",
      "eng-6220937: At least 32 killed in Hyderabad floods, Army called in to assist with rescue operations\n",
      "eng-6213735: Telangana heavy rains: Death toll rises to 50, losses estimated at Rs 5000 crore\n",
      "eng-6212472: Heavy rains kill 30 in India\n",
      "eng-6208786: 10,000 evacuated in Cambodia due to flooding; rice crop hit\n",
      "eng-6183697: Rescue efforts stepped up after floods kill two near France-Italy border\n",
      "eng-6149056: 2 killed, 20 wounded as floods hit Indonesian capital, SE Asia News &\n",
      "eng-6144401: Tropical storm Noul leaves 11 dead in Cambodia - it's havoc in South East Asia\n",
      "eng-6147383: Record-breaking rains wreak havoc across Sudan during pandemic\n",
      "eng-6139229: Karnataka: Relentless rain wreaks havoc in Udupi | Mangaluru News - Times of India\n",
      "eng-6129216: Evacuations commence, schools close as floods hit Kapit, Sarawak\n",
      "eng-6124519: Once-in-a-lifetime floods wreak havoc across Africa   \n",
      "eng-6096037: Sudan declares state of emergency as record flooding kills 99 people\n",
      "eng-6085869: Two landslides kill 11 in Hazara division\n",
      "eng-6092360: Flash floods kill 15 in popular tourist destination in Pakistan\n",
      "eng-6083560: North Dakota seeks disaster declaration for storm damage\n",
      "eng-6077034: More woes - Flooding soaks South Asia, displacing millions during virus woes\n",
      "eng-6072434: Heavy monsoon rains kill 16 in NW Pakistan\n",
      "eng-6065935: Flash floods kill more than 70 in Afghanistan\n",
      "eng-6065133: At Least 70 Killed as Flash Floods Ravage City in Afghanistan\n",
      "eng-6058220: Six dead as severe flash flooding devastates northern Turkey\n",
      "eng-6022076: Almost 50 killed in three days of monsoon rain across Pakistan\n",
      "eng-6029144: Ethiopia - Floods, Flash Update As of 6 August 2020 - Ethiopia\n",
      "eng-6021872: Pakistan Army continues rescue and relief operation after flooding wreaks havoc in Dadu\n",
      "eng-6007390: Karnataka Opens Dams As Water Level Rises After Heavy Rain\n",
      "eng-6003235: Pakistan Army Launches Cleanliness Drive in Karachi\n",
      "eng-5976203: Streets in South Korea's Busan overflow with floodwater\n",
      "eng-5974805: Hundreds killed and thousands displaced by monsoons in South Asia \n",
      "eng-5945323: Flash floods, landslides kill 16 in Indonesia, 23 still missing\n",
      "eng-5947086: Monsoon Rains Pummel South Asia, Displacing Millions\n",
      "eng-5941292: 1 dead in northeastern Turkey flash flood\n",
      "eng-5934835: NEMA inaugurates panel on 2020 floods\n",
      "eng-5803928: Assam: Nearly 2 lakh people affected, over 8,000 shifted to relief camps in first wave of floods\n",
      "eng-5803285: IMD issues advisory to fishermen over rough Arabian sea\n",
      "eng-5660296: 'Superstorm' Harold hits Vanuatu after killing 27\n",
      "eng-5536870: Several students killed in Indonesia flash flood\n",
      "eng-5516101: Official says avalanches in Afghanistan kill 21 people\n",
      "eng-5469476: Floods, landslide in western Indonesia leave 7 dead\n",
      "eng-5428719: Severe winter weather, avalanches in Pakistan, Afghanistan kill 70 more people\n",
      "eng-5402853: It's not just Australia  --  Indonesia is facing its own climate disaster\n",
      "eng-5402192: Indonesia braces for more floods as death toll hits 66\n",
      "eng-5399579: Jakarta flooding death toll hits 60\n",
      "eng-5398121: Flash floods leave dozens dead and missing in Indonesia's capital\n",
      "eng-5398036: Indonesia floods leave at least 23 dead, several missing - official\n",
      "eng-5398120: Indonesia floods leave nearly 30 dead, several missing\n",
      "eng-5388924: Jakarta floods leave 16 dead and 20,000 homeless\n",
      "eng-5389224: Jakarta floods leave at least 20 dead and 30,000 displaced\n"
     ]
    }
   ],
   "source": [
    "events = event_registry.get_events_from_media_intelligence(query1)\n",
    "print_titles(events)\n"
   ]
  }
 ],
 "metadata": {
  "kernelspec": {
   "display_name": "Python 3",
   "language": "python",
   "name": "python3"
  },
  "language_info": {
   "codemirror_mode": {
    "name": "ipython",
    "version": 3
   },
   "file_extension": ".py",
   "mimetype": "text/x-python",
   "name": "python",
   "nbconvert_exporter": "python",
   "pygments_lexer": "ipython3",
   "version": "3.8.5"
  }
 },
 "nbformat": 4,
 "nbformat_minor": 5
}
