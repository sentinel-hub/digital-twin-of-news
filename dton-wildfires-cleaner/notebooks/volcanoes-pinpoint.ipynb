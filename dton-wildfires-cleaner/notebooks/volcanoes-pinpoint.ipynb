{
 "cells": [
  {
   "cell_type": "code",
   "execution_count": 1,
   "id": "persistent-shape",
   "metadata": {},
   "outputs": [
    {
     "name": "stdout",
     "output_type": "stream",
     "text": [
      "C:\\Users\\user\\Documents\\dton-wildfires-cleaner\n"
     ]
    }
   ],
   "source": [
    "cd .."
   ]
  },
  {
   "cell_type": "code",
   "execution_count": 2,
   "id": "enabling-attribute",
   "metadata": {},
   "outputs": [],
   "source": [
    "import os\n",
    "from datetime import timedelta\n",
    "\n",
    "from sentinelhub import SHConfig, DataCollection\n",
    "from sentinelhub.time_utils import iso_to_datetime\n",
    "import matplotlib.pyplot as plt\n",
    "\n",
    "from utils import get_env_var\n",
    "from event_registry_utils import EventRegistry\n",
    "from events_utils import filter_events_by_concept_thresholds, get_locations_from_concepts\n",
    "from processing.date_utils import get_exact_date, start_of_day, end_of_day\n",
    "from processing.bbox_utils import create_bbox\n",
    "from processing.evalscripts import wildfire_detection\n",
    "from processing.fetching_utils import get_image\n",
    "from processing.pinpoint_location import get_bbox"
   ]
  },
  {
   "cell_type": "code",
   "execution_count": 3,
   "id": "entitled-weapon",
   "metadata": {},
   "outputs": [],
   "source": [
    "EVENT_REGISTRY_API_KEY = get_env_var(\"EVENT_REGISTRY_API_KEY\")"
   ]
  },
  {
   "cell_type": "code",
   "execution_count": 4,
   "id": "shaped-jefferson",
   "metadata": {},
   "outputs": [],
   "source": [
    "event_registry = EventRegistry(EVENT_REGISTRY_API_KEY)"
   ]
  },
  {
   "cell_type": "code",
   "execution_count": 5,
   "id": "forced-meeting",
   "metadata": {},
   "outputs": [],
   "source": [
    "date_start = \"2020-01-01\"\n",
    "date_end = \"2021-01-01\""
   ]
  },
  {
   "cell_type": "code",
   "execution_count": 6,
   "id": "saving-block",
   "metadata": {},
   "outputs": [],
   "source": [
    "# THIS CELL CAN BE IGNORED, JUST SETTING UP\n",
    "INSTANCE_ID = os.environ['INSTANCE_ID']\n",
    "CLIENT_ID = os.environ['CLIENT_ID']\n",
    "CLIENT_SECRET = os.environ['CLIENT_SECRET']\n",
    "\n",
    "config = SHConfig()\n",
    "config.instance_id = INSTANCE_ID\n",
    "config.sh_client_id = CLIENT_ID\n",
    "config.sh_client_secret = CLIENT_SECRET\n",
    "\n",
    "# Taken from the notebook for volcano query\n",
    "query = {\n",
    "    \"$query\": {\n",
    "        \"$and\": [\n",
    "            {\n",
    "                \"$and\": [\n",
    "                    {\n",
    "                        \"conceptUri\": \"http://en.wikipedia.org/wiki/Volcano\"\n",
    "                    },\n",
    "                    {\n",
    "                        \"$or\": [\n",
    "                            {\n",
    "                                \"conceptUri\": \"http://en.wikipedia.org/wiki/Types_of_volcanic_eruptions\"\n",
    "                            },\n",
    "                            {\n",
    "                                \"conceptUri\": \"http://en.wikipedia.org/wiki/Volcanic_ash\"\n",
    "                            }\n",
    "                        ]\n",
    "                    }\n",
    "                    \n",
    "                ]\n",
    "            },\n",
    "            {\n",
    "                \"dateStart\": date_start,\n",
    "                \"dateEnd\": date_end,\n",
    "            },\n",
    "            {\n",
    "                \"lang\": \"eng\"\n",
    "            }\n",
    "        ], \n",
    "        \"$not\": {\n",
    "            \"$or\": [\n",
    "                {\n",
    "                    \"conceptUri\": \"http://en.wikipedia.org/wiki/Archaeology\"\n",
    "                },\n",
    "                {\n",
    "                    \"conceptUri\": \"http://en.wikipedia.org/wiki/Rock_(geology)\"\n",
    "                },\n",
    "                {\n",
    "                    \"conceptUri\": \"http://en.wikipedia.org/wiki/Hotspot_(geology)\"\n",
    "                },\n",
    "                {\n",
    "                    \"conceptUri\": \"http://en.wikipedia.org/wiki/Supervolcano\"\n",
    "                },\n",
    "                {\n",
    "                    \"conceptUri\": \"http://en.wikipedia.org/wiki/Tourism\"\n",
    "                },\n",
    "                {\n",
    "                    \"conceptUri\": \"http://en.wikipedia.org/wiki/Lahar\"\n",
    "                }\n",
    "            ]\n",
    "        }\n",
    "    }\n",
    "}\n",
    "events = event_registry.get_events_from_media_intelligence(query, include_event_concepts=True)\n",
    "thresholds = [\n",
    "    {\n",
    "        'uri': 'http://en.wikipedia.org/wiki/Volcano',\n",
    "        'score_threshold': 90\n",
    "    },\n",
    "    {\n",
    "        'uri': 'http://en.wikipedia.org/wiki/Volcanic_ash',\n",
    "        'score_threshold': 50,\n",
    "        'allow_not_exist': True\n",
    "    }\n",
    "]\n",
    "filtered_events = filter_events_by_concept_thresholds(events, thresholds)"
   ]
  },
  {
   "cell_type": "code",
   "execution_count": 7,
   "id": "liquid-court",
   "metadata": {},
   "outputs": [],
   "source": [
    "# Slightly lower temperature limit. Taal volcano was not detected at 350\n",
    "volcano_detection = \"\"\"\n",
    "const F1_LIMIT = 320;\n",
    "\n",
    "function evaluatePixel(samples) {\n",
    "  if (samples.length === 0) {\n",
    "    return [0];\n",
    "  }\n",
    "  \n",
    "  const is_very_hot = samples.find(sample => sample.F1 > F1_LIMIT);\n",
    "  if (is_very_hot) {\n",
    "    return [1];\n",
    "  }\n",
    "  \n",
    "  return [0];\n",
    "}\n",
    "\n",
    "function setup() {\n",
    "  return {\n",
    "    input: [{\n",
    "      bands: [\n",
    "        \"F1\",\n",
    "        \"dataMask\"\n",
    "      ]\n",
    "    }],\n",
    "    mosaicking: Mosaicking.ORBIT,\n",
    "    output: {\n",
    "      bands: 1\n",
    "    }\n",
    "  }\n",
    "}\n",
    "\"\"\""
   ]
  },
  {
   "cell_type": "code",
   "execution_count": 8,
   "id": "desirable-departure",
   "metadata": {},
   "outputs": [
    {
     "name": "stdout",
     "output_type": "stream",
     "text": [
      "eng-6416099: Kilauea volcano erupts in Hawaii, residents asked to stay indoors\n"
     ]
    }
   ],
   "source": [
    "# SELECT EVENT FROM LIST\n",
    "# 28, 30 - Taal 320\n",
    "event = filtered_events[0]\n",
    "print(event[\"id\"] + \":\", event[\"title\"])"
   ]
  },
  {
   "cell_type": "code",
   "execution_count": 9,
   "id": "synthetic-training",
   "metadata": {},
   "outputs": [
    {
     "name": "stdout",
     "output_type": "stream",
     "text": [
      "[{'uri': 'http://en.wikipedia.org/wiki/Kīlauea', 'score': 94, 'type': 'mountain', 'lat': 19.42109747, 'lng': -155.28676243}]\n"
     ]
    }
   ],
   "source": [
    "# Concepts are sorted by score, so we always get the mountain with the highest score\n",
    "locations = get_locations_from_concepts(event[\"concepts\"], stop_at_type='mountain')\n",
    "mountains = list(filter(lambda l: l['type'] == 'mountain', locations))\n",
    "print(mountains)"
   ]
  },
  {
   "cell_type": "code",
   "execution_count": 10,
   "id": "derived-influence",
   "metadata": {},
   "outputs": [
    {
     "name": "stdout",
     "output_type": "stream",
     "text": [
      "2020-12-21 19.42109747 -155.28676243\n"
     ]
    }
   ],
   "source": [
    "resolution='1000m'\n",
    "data_collection = DataCollection.SENTINEL3_SLSTR\n",
    "evalscript = volcano_detection\n",
    "layer = 'HIGH-TEMPERATURE-DETECTION' # FIS requires this parameter\n",
    "timerange_before = 10\n",
    "\n",
    "date = event[\"date\"]\n",
    "to_time = end_of_day(iso_to_datetime(date))\n",
    "from_time = iso_to_datetime(date)\n",
    "from_time = from_time - timedelta(days=timerange_before)\n",
    "\n",
    "if len(mountains) == 0:\n",
    "    lat = event[\"lat\"]\n",
    "    lng = event[\"lng\"]\n",
    "    bbox_dimension=150000\n",
    "else:\n",
    "    lat = mountains[0][\"lat\"]\n",
    "    lng = mountains[0][\"lng\"]\n",
    "    bbox_dimension=50000\n",
    "    \n",
    "print(date, lat, lng)"
   ]
  },
  {
   "cell_type": "code",
   "execution_count": 11,
   "id": "passive-survey",
   "metadata": {},
   "outputs": [],
   "source": [
    "bbox = create_bbox(lat, lng, bbox_dimension)"
   ]
  },
  {
   "cell_type": "code",
   "execution_count": 12,
   "id": "invalid-story",
   "metadata": {},
   "outputs": [
    {
     "name": "stdout",
     "output_type": "stream",
     "text": [
      "2020-12-21\n"
     ]
    }
   ],
   "source": [
    "exact_date = get_exact_date(from_time, to_time, bbox, data_collection, evalscript, layer, resolution, config) \n",
    "print(exact_date)"
   ]
  },
  {
   "cell_type": "code",
   "execution_count": 13,
   "id": "forty-watershed",
   "metadata": {},
   "outputs": [],
   "source": [
    "exact_date = iso_to_datetime(exact_date)\n",
    "from_time = start_of_day(exact_date)\n",
    "to_time = end_of_day(exact_date)\n",
    "\n",
    "resolution=1000\n",
    "url=\"https://creodias.sentinel-hub.com/api/v1/process\"\n",
    "LIMIT_INCLUDED=0.8 \n",
    "LIMIT_SCORE = 0.3\n",
    "width = height = int(bbox_dimension/resolution)"
   ]
  },
  {
   "cell_type": "code",
   "execution_count": 14,
   "id": "inner-native",
   "metadata": {},
   "outputs": [
    {
     "data": {
      "text/plain": [
       "<matplotlib.image.AxesImage at 0x21e7f423df0>"
      ]
     },
     "execution_count": 14,
     "metadata": {},
     "output_type": "execute_result"
    },
    {
     "data": {
      "image/png": "[encoded data removed]",
      "text/plain": [
       "<Figure size 432x288 with 1 Axes>"
      ]
     },
     "metadata": {
      "needs_background": "light"
     },
     "output_type": "display_data"
    }
   ],
   "source": [
    "image = get_image(bbox, from_time, to_time, width, height, evalscript, data_collection, url, config)\n",
    "plt.imshow(image, interpolation='none')"
   ]
  },
  {
   "cell_type": "code",
   "execution_count": 15,
   "id": "adjacent-sugar",
   "metadata": {},
   "outputs": [],
   "source": [
    "# We don't need to refine a bbox if we have the location of the volcano\n",
    "\n",
    "# Process\n",
    "# We try to find find the location of the volcano (mountain with the highest score)\n",
    "#   - If location is found, that is the final lat/lng. Find exact date. If not found\n",
    "#     just use event date and save the event anyway. Zoom can be fixed for all volcanoes.\n",
    "#   - If location is not found, do the same as for the wildfires"
   ]
  }
 ],
 "metadata": {
  "kernelspec": {
   "display_name": "Python 3",
   "language": "python",
   "name": "python3"
  },
  "language_info": {
   "codemirror_mode": {
    "name": "ipython",
    "version": 3
   },
   "file_extension": ".py",
   "mimetype": "text/x-python",
   "name": "python",
   "nbconvert_exporter": "python",
   "pygments_lexer": "ipython3",
   "version": "3.8.0"
  }
 },
 "nbformat": 4,
 "nbformat_minor": 5
}
